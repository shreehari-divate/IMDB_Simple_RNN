{
  "nbformat": 4,
  "nbformat_minor": 0,
  "metadata": {
    "colab": {
      "provenance": [],
      "gpuType": "T4"
    },
    "kernelspec": {
      "name": "python3",
      "display_name": "Python 3"
    },
    "language_info": {
      "name": "python"
    }
  },
  "cells": [
    {
      "cell_type": "markdown",
      "source": [
        "# **IMDB Movie Review Using Simple RNN**"
      ],
      "metadata": {
        "id": "4BwPlX7QX7dB"
      }
    },
    {
      "cell_type": "markdown",
      "source": [
        "### Import required libraries"
      ],
      "metadata": {
        "id": "0rpet9hVYKXd"
      }
    },
    {
      "cell_type": "code",
      "execution_count": 1,
      "metadata": {
        "id": "7UjTGZ1CkqPO"
      },
      "outputs": [],
      "source": [
        "import tensorflow\n",
        "import numpy as np\n",
        "import pandas as pd\n",
        "\n",
        "from tensorflow.keras.datasets import imdb\n",
        "from tensorflow.keras.preprocessing import sequence\n",
        "from tensorflow.keras.layers import Dense, Embedding, SimpleRNN,GlobalAveragePooling1D\n",
        "from tensorflow.keras.models import Sequential\n",
        "from tensorflow.keras.callbacks import EarlyStopping\n"
      ]
    },
    {
      "cell_type": "markdown",
      "source": [
        "## Get the dataset"
      ],
      "metadata": {
        "id": "mKvjVTf4YTW_"
      }
    },
    {
      "cell_type": "code",
      "source": [
        "# dataset\n",
        "data = imdb"
      ],
      "metadata": {
        "id": "szYFg_6KlTbQ"
      },
      "execution_count": 2,
      "outputs": []
    },
    {
      "cell_type": "markdown",
      "source": [
        "## Define Vocabulary Size"
      ],
      "metadata": {
        "id": "FiBWgp4HYYTc"
      }
    },
    {
      "cell_type": "code",
      "source": [
        "voc_size = 10000"
      ],
      "metadata": {
        "id": "F9dO_t6wlt1h"
      },
      "execution_count": 3,
      "outputs": []
    },
    {
      "cell_type": "markdown",
      "source": [
        "## Split the train and test data"
      ],
      "metadata": {
        "id": "A4lt1GfZYifj"
      }
    },
    {
      "cell_type": "code",
      "source": [
        "#split train and test data\n",
        "(X_train, y_train), (X_test, y_test) = data.load_data(num_words=voc_size)\n",
        "print(\"X_train shape: \", X_train.shape)\n",
        "print(\"X_test shape: \", X_test.shape)"
      ],
      "metadata": {
        "colab": {
          "base_uri": "https://localhost:8080/"
        },
        "id": "-gNKAgeVmLTv",
        "outputId": "2fd6a061-e683-41bb-d9cc-c474b7485e3a"
      },
      "execution_count": 4,
      "outputs": [
        {
          "output_type": "stream",
          "name": "stdout",
          "text": [
            "Downloading data from https://storage.googleapis.com/tensorflow/tf-keras-datasets/imdb.npz\n",
            "\u001b[1m17464789/17464789\u001b[0m \u001b[32m━━━━━━━━━━━━━━━━━━━━\u001b[0m\u001b[37m\u001b[0m \u001b[1m2s\u001b[0m 0us/step\n",
            "X_train shape:  (25000,)\n",
            "X_test shape:  (25000,)\n"
          ]
        }
      ]
    },
    {
      "cell_type": "markdown",
      "source": [
        "## Preprocess the Data\n",
        "\n",
        "\n",
        "\n",
        "*   Here max words is 500 as it is effcient\n",
        "*   pad sequence is used to ensure all input sequence has same length\n",
        "\n",
        "\n",
        "\n"
      ],
      "metadata": {
        "id": "1mWF0McLYo7F"
      }
    },
    {
      "cell_type": "code",
      "source": [
        "#preprocessing the data\n",
        "max_words = 500\n",
        "X_train = sequence.pad_sequences(X_train,maxlen=max_words)\n",
        "X_test = sequence.pad_sequences(X_test,maxlen=max_words)\n",
        "\n",
        "print(f\"X_train shape: {X_train.shape}\\nX_train type: {type(X_train)}\")\n",
        "print(f\"y_test shape: {y_test.shape}\\ny_test type: {type(y_test)}\")"
      ],
      "metadata": {
        "colab": {
          "base_uri": "https://localhost:8080/"
        },
        "id": "mF6n2Ha3mZsg",
        "outputId": "40137ac1-928d-46a7-b43e-3c57a6a52e97"
      },
      "execution_count": 5,
      "outputs": [
        {
          "output_type": "stream",
          "name": "stdout",
          "text": [
            "X_train shape: (25000, 500)\n",
            "X_train type: <class 'numpy.ndarray'>\n",
            "y_test shape: (25000,)\n",
            "y_test type: <class 'numpy.ndarray'>\n"
          ]
        }
      ]
    },
    {
      "cell_type": "code",
      "source": [
        "\n",
        "!pip install keras-tuner --upgrade\n"
      ],
      "metadata": {
        "colab": {
          "base_uri": "https://localhost:8080/"
        },
        "collapsed": true,
        "id": "vGZzfzzSp-dD",
        "outputId": "637d3585-5759-4711-bc14-826b543f7db4"
      },
      "execution_count": 52,
      "outputs": [
        {
          "output_type": "stream",
          "name": "stdout",
          "text": [
            "Collecting keras-tuner\n",
            "  Downloading keras_tuner-1.4.7-py3-none-any.whl.metadata (5.4 kB)\n",
            "Requirement already satisfied: keras in /usr/local/lib/python3.11/dist-packages (from keras-tuner) (3.8.0)\n",
            "Requirement already satisfied: packaging in /usr/local/lib/python3.11/dist-packages (from keras-tuner) (25.0)\n",
            "Requirement already satisfied: requests in /usr/local/lib/python3.11/dist-packages (from keras-tuner) (2.32.3)\n",
            "Collecting kt-legacy (from keras-tuner)\n",
            "  Downloading kt_legacy-1.0.5-py3-none-any.whl.metadata (221 bytes)\n",
            "Requirement already satisfied: absl-py in /usr/local/lib/python3.11/dist-packages (from keras->keras-tuner) (1.4.0)\n",
            "Requirement already satisfied: numpy in /usr/local/lib/python3.11/dist-packages (from keras->keras-tuner) (2.0.2)\n",
            "Requirement already satisfied: rich in /usr/local/lib/python3.11/dist-packages (from keras->keras-tuner) (13.9.4)\n",
            "Requirement already satisfied: namex in /usr/local/lib/python3.11/dist-packages (from keras->keras-tuner) (0.1.0)\n",
            "Requirement already satisfied: h5py in /usr/local/lib/python3.11/dist-packages (from keras->keras-tuner) (3.14.0)\n",
            "Requirement already satisfied: optree in /usr/local/lib/python3.11/dist-packages (from keras->keras-tuner) (0.16.0)\n",
            "Requirement already satisfied: ml-dtypes in /usr/local/lib/python3.11/dist-packages (from keras->keras-tuner) (0.4.1)\n",
            "Requirement already satisfied: charset-normalizer<4,>=2 in /usr/local/lib/python3.11/dist-packages (from requests->keras-tuner) (3.4.2)\n",
            "Requirement already satisfied: idna<4,>=2.5 in /usr/local/lib/python3.11/dist-packages (from requests->keras-tuner) (3.10)\n",
            "Requirement already satisfied: urllib3<3,>=1.21.1 in /usr/local/lib/python3.11/dist-packages (from requests->keras-tuner) (2.4.0)\n",
            "Requirement already satisfied: certifi>=2017.4.17 in /usr/local/lib/python3.11/dist-packages (from requests->keras-tuner) (2025.7.14)\n",
            "Requirement already satisfied: typing-extensions>=4.6.0 in /usr/local/lib/python3.11/dist-packages (from optree->keras->keras-tuner) (4.14.1)\n",
            "Requirement already satisfied: markdown-it-py>=2.2.0 in /usr/local/lib/python3.11/dist-packages (from rich->keras->keras-tuner) (3.0.0)\n",
            "Requirement already satisfied: pygments<3.0.0,>=2.13.0 in /usr/local/lib/python3.11/dist-packages (from rich->keras->keras-tuner) (2.19.2)\n",
            "Requirement already satisfied: mdurl~=0.1 in /usr/local/lib/python3.11/dist-packages (from markdown-it-py>=2.2.0->rich->keras->keras-tuner) (0.1.2)\n",
            "Downloading keras_tuner-1.4.7-py3-none-any.whl (129 kB)\n",
            "\u001b[2K   \u001b[90m━━━━━━━━━━━━━━━━━━━━━━━━━━━━━━━━━━━━━━━━\u001b[0m \u001b[32m129.1/129.1 kB\u001b[0m \u001b[31m12.8 MB/s\u001b[0m eta \u001b[36m0:00:00\u001b[0m\n",
            "\u001b[?25hDownloading kt_legacy-1.0.5-py3-none-any.whl (9.6 kB)\n",
            "Installing collected packages: kt-legacy, keras-tuner\n",
            "Successfully installed keras-tuner-1.4.7 kt-legacy-1.0.5\n"
          ]
        }
      ]
    },
    {
      "cell_type": "markdown",
      "source": [
        "### Defining the model\n",
        "\n",
        "\n",
        "\n",
        "*   Using Keras Tuner to optimize the performance of the model by tuning hyperparameters like units by using Hyperband strategy\n",
        "\n",
        "\n"
      ],
      "metadata": {
        "id": "8E0VpYPZZskK"
      }
    },
    {
      "cell_type": "code",
      "source": [
        "import keras_tuner as kt\n",
        "\n",
        "def build_model(hp):\n",
        "  model = Sequential()\n",
        "  model.add(Embedding(input_dim=voc_size,output_dim=hp.Int('embedding_dim',min_value=32,max_value=512,step=32)))\n",
        "  model.add(GlobalAveragePooling1D())\n",
        "  model.add(Dense(units=hp.Int('dense_units',min_value=32, max_value=512, step=32),activation='relu'))\n",
        "  model.add(Dense(units=1,activation='sigmoid'))\n",
        "\n",
        "  model.compile(optimizer='adam',loss='binary_crossentropy',metrics=['accuracy'])\n",
        "\n",
        "  return model"
      ],
      "metadata": {
        "id": "NoUxMhxfiBfo"
      },
      "execution_count": 54,
      "outputs": []
    },
    {
      "cell_type": "code",
      "source": [
        "#tune the hyperparameter\n",
        "tuner = kt.Hyperband(\n",
        "    build_model,\n",
        "    objective='val_accuracy',\n",
        "    max_epochs=15,\n",
        "    factor=3,\n",
        "    directory='my_dir',\n",
        "    project_name='imdb'\n",
        ")"
      ],
      "metadata": {
        "id": "xpfrveiwkCX7"
      },
      "execution_count": 55,
      "outputs": []
    },
    {
      "cell_type": "markdown",
      "source": [
        "Early Stopping to prevent overfitting"
      ],
      "metadata": {
        "id": "cKZRS63Kbjwr"
      }
    },
    {
      "cell_type": "code",
      "source": [
        "#early_stopping = EarlyStopping(monitor='val_loss',patience=2, restore_best_weights=True)\n",
        "early_stopping = EarlyStopping(monitor='val_loss',patience=5)"
      ],
      "metadata": {
        "id": "pS1_RThapHiA"
      },
      "execution_count": 56,
      "outputs": []
    },
    {
      "cell_type": "code",
      "source": [
        "#search for best hp's\n",
        "tuner.search(X_train,y_train,epochs=15,validation_data=(X_test,y_test),callbacks=[early_stopping])"
      ],
      "metadata": {
        "colab": {
          "base_uri": "https://localhost:8080/"
        },
        "id": "11DOH04Tkw78",
        "outputId": "fa7e2aa2-284c-4399-ea2c-2852f41fde88"
      },
      "execution_count": 57,
      "outputs": [
        {
          "output_type": "stream",
          "name": "stdout",
          "text": [
            "Trial 30 Complete [00h 00m 53s]\n",
            "val_accuracy: 0.888480007648468\n",
            "\n",
            "Best val_accuracy So Far: 0.888480007648468\n",
            "Total elapsed time: 00h 14m 06s\n"
          ]
        }
      ]
    },
    {
      "cell_type": "code",
      "source": [
        "best_hps=tuner.get_best_hyperparameters(num_trials=1)[0]\n",
        "\n",
        "print(f\"\"\"\n",
        "The hyperparameter search is complete. The optimal number of embedding dimenssion in the first densely-connected\n",
        "layer is {best_hps.get('embedding_dim')} and the dense units for the optimizer\n",
        "is {best_hps.get('dense_units')}.\n",
        "\"\"\")"
      ],
      "metadata": {
        "colab": {
          "base_uri": "https://localhost:8080/"
        },
        "id": "hnxZy3UxoPJu",
        "outputId": "b51487f7-cfc5-4f24-db53-a844fd513e26"
      },
      "execution_count": 60,
      "outputs": [
        {
          "output_type": "stream",
          "name": "stdout",
          "text": [
            "\n",
            "The hyperparameter search is complete. The optimal number of units in the first densely-connected\n",
            "layer is 64 and the optimal learning rate for the optimizer\n",
            "is 128.\n",
            "\n"
          ]
        }
      ]
    },
    {
      "cell_type": "markdown",
      "source": [
        "## Train the Model"
      ],
      "metadata": {
        "id": "MkrhsSnhb5nO"
      }
    },
    {
      "cell_type": "code",
      "source": [
        "#train the model\n",
        "\n",
        "model = tuner.hypermodel.build(best_hps)\n",
        "history=model.fit(\n",
        "    X_train,y_train,\n",
        "    epochs=15,\n",
        "    validation_data=(X_test,y_test),\n",
        "    callbacks=[early_stopping]\n",
        ")\n",
        "val_acc_per_epoch = history.history['val_accuracy']\n",
        "best_epoch = val_acc_per_epoch.index(max(val_acc_per_epoch)) + 1\n",
        "print('Best epoch: %d' % (best_epoch,))"
      ],
      "metadata": {
        "colab": {
          "base_uri": "https://localhost:8080/"
        },
        "id": "SwzG2zFXo4bi",
        "outputId": "efe46311-e053-46f2-ee2a-db4945dece5e"
      },
      "execution_count": 61,
      "outputs": [
        {
          "output_type": "stream",
          "name": "stdout",
          "text": [
            "Epoch 1/15\n",
            "\u001b[1m782/782\u001b[0m \u001b[32m━━━━━━━━━━━━━━━━━━━━\u001b[0m\u001b[37m\u001b[0m \u001b[1m6s\u001b[0m 6ms/step - accuracy: 0.5880 - loss: 0.6456 - val_accuracy: 0.8561 - val_loss: 0.3673\n",
            "Epoch 2/15\n",
            "\u001b[1m782/782\u001b[0m \u001b[32m━━━━━━━━━━━━━━━━━━━━\u001b[0m\u001b[37m\u001b[0m \u001b[1m5s\u001b[0m 6ms/step - accuracy: 0.8329 - loss: 0.3714 - val_accuracy: 0.8777 - val_loss: 0.3057\n",
            "Epoch 3/15\n",
            "\u001b[1m782/782\u001b[0m \u001b[32m━━━━━━━━━━━━━━━━━━━━\u001b[0m\u001b[37m\u001b[0m \u001b[1m3s\u001b[0m 4ms/step - accuracy: 0.8657 - loss: 0.3092 - val_accuracy: 0.8746 - val_loss: 0.3013\n",
            "Epoch 4/15\n",
            "\u001b[1m782/782\u001b[0m \u001b[32m━━━━━━━━━━━━━━━━━━━━\u001b[0m\u001b[37m\u001b[0m \u001b[1m4s\u001b[0m 5ms/step - accuracy: 0.8838 - loss: 0.2792 - val_accuracy: 0.8851 - val_loss: 0.2835\n",
            "Epoch 5/15\n",
            "\u001b[1m782/782\u001b[0m \u001b[32m━━━━━━━━━━━━━━━━━━━━\u001b[0m\u001b[37m\u001b[0m \u001b[1m3s\u001b[0m 4ms/step - accuracy: 0.9040 - loss: 0.2403 - val_accuracy: 0.8857 - val_loss: 0.2845\n",
            "Epoch 6/15\n",
            "\u001b[1m782/782\u001b[0m \u001b[32m━━━━━━━━━━━━━━━━━━━━\u001b[0m\u001b[37m\u001b[0m \u001b[1m4s\u001b[0m 6ms/step - accuracy: 0.9046 - loss: 0.2401 - val_accuracy: 0.8689 - val_loss: 0.3123\n",
            "Epoch 7/15\n",
            "\u001b[1m782/782\u001b[0m \u001b[32m━━━━━━━━━━━━━━━━━━━━\u001b[0m\u001b[37m\u001b[0m \u001b[1m5s\u001b[0m 5ms/step - accuracy: 0.9188 - loss: 0.2079 - val_accuracy: 0.8624 - val_loss: 0.3176\n",
            "Epoch 8/15\n",
            "\u001b[1m782/782\u001b[0m \u001b[32m━━━━━━━━━━━━━━━━━━━━\u001b[0m\u001b[37m\u001b[0m \u001b[1m3s\u001b[0m 4ms/step - accuracy: 0.9269 - loss: 0.1943 - val_accuracy: 0.8881 - val_loss: 0.2852\n",
            "Epoch 9/15\n",
            "\u001b[1m782/782\u001b[0m \u001b[32m━━━━━━━━━━━━━━━━━━━━\u001b[0m\u001b[37m\u001b[0m \u001b[1m3s\u001b[0m 4ms/step - accuracy: 0.9231 - loss: 0.1949 - val_accuracy: 0.8861 - val_loss: 0.2912\n",
            "Best epoch: 8\n"
          ]
        }
      ]
    },
    {
      "cell_type": "markdown",
      "source": [
        "Re intitate the hypermodel by considering the est epoch"
      ],
      "metadata": {
        "id": "8lqYw0pWcA_t"
      }
    },
    {
      "cell_type": "code",
      "source": [
        "#re instatiating the hypermodel\n",
        "hypermodel = tuner.hypermodel.build(best_hps)\n",
        "hypermodel.fit(\n",
        "    X_train,y_train,\n",
        "    epochs=best_epoch,\n",
        "    validation_data=(X_test,y_test),\n",
        "    callbacks=[early_stopping]\n",
        ")"
      ],
      "metadata": {
        "colab": {
          "base_uri": "https://localhost:8080/"
        },
        "id": "WeGozY5QpjFb",
        "outputId": "68cbd7e0-68f6-467f-9d0e-634a7ca5cd35"
      },
      "execution_count": 62,
      "outputs": [
        {
          "output_type": "stream",
          "name": "stdout",
          "text": [
            "Epoch 1/8\n",
            "\u001b[1m782/782\u001b[0m \u001b[32m━━━━━━━━━━━━━━━━━━━━\u001b[0m\u001b[37m\u001b[0m \u001b[1m6s\u001b[0m 6ms/step - accuracy: 0.5990 - loss: 0.6390 - val_accuracy: 0.6376 - val_loss: 0.8217\n",
            "Epoch 2/8\n",
            "\u001b[1m782/782\u001b[0m \u001b[32m━━━━━━━━━━━━━━━━━━━━\u001b[0m\u001b[37m\u001b[0m \u001b[1m9s\u001b[0m 5ms/step - accuracy: 0.8168 - loss: 0.3936 - val_accuracy: 0.7448 - val_loss: 0.5601\n",
            "Epoch 3/8\n",
            "\u001b[1m782/782\u001b[0m \u001b[32m━━━━━━━━━━━━━━━━━━━━\u001b[0m\u001b[37m\u001b[0m \u001b[1m4s\u001b[0m 4ms/step - accuracy: 0.8932 - loss: 0.2727 - val_accuracy: 0.7396 - val_loss: 0.6374\n",
            "Epoch 4/8\n",
            "\u001b[1m782/782\u001b[0m \u001b[32m━━━━━━━━━━━━━━━━━━━━\u001b[0m\u001b[37m\u001b[0m \u001b[1m4s\u001b[0m 5ms/step - accuracy: 0.8896 - loss: 0.2772 - val_accuracy: 0.8824 - val_loss: 0.2841\n",
            "Epoch 5/8\n",
            "\u001b[1m782/782\u001b[0m \u001b[32m━━━━━━━━━━━━━━━━━━━━\u001b[0m\u001b[37m\u001b[0m \u001b[1m4s\u001b[0m 6ms/step - accuracy: 0.9036 - loss: 0.2321 - val_accuracy: 0.8892 - val_loss: 0.2780\n",
            "Epoch 6/8\n",
            "\u001b[1m782/782\u001b[0m \u001b[32m━━━━━━━━━━━━━━━━━━━━\u001b[0m\u001b[37m\u001b[0m \u001b[1m5s\u001b[0m 6ms/step - accuracy: 0.9147 - loss: 0.2123 - val_accuracy: 0.8803 - val_loss: 0.2933\n",
            "Epoch 7/8\n",
            "\u001b[1m782/782\u001b[0m \u001b[32m━━━━━━━━━━━━━━━━━━━━\u001b[0m\u001b[37m\u001b[0m \u001b[1m4s\u001b[0m 4ms/step - accuracy: 0.9154 - loss: 0.2075 - val_accuracy: 0.8683 - val_loss: 0.3209\n",
            "Epoch 8/8\n",
            "\u001b[1m782/782\u001b[0m \u001b[32m━━━━━━━━━━━━━━━━━━━━\u001b[0m\u001b[37m\u001b[0m \u001b[1m5s\u001b[0m 4ms/step - accuracy: 0.9301 - loss: 0.1846 - val_accuracy: 0.8846 - val_loss: 0.2874\n"
          ]
        },
        {
          "output_type": "execute_result",
          "data": {
            "text/plain": [
              "<keras.src.callbacks.history.History at 0x7cd86196d650>"
            ]
          },
          "metadata": {},
          "execution_count": 62
        }
      ]
    },
    {
      "cell_type": "code",
      "source": [
        "history = model.fit(\n",
        "    X_train,y_train,\n",
        "    epochs=20,\n",
        "    validation_data=(X_test,y_test),\n",
        "    callbacks=[early_stopping]\n",
        ")"
      ],
      "metadata": {
        "colab": {
          "base_uri": "https://localhost:8080/"
        },
        "id": "ctWA6lKapPy3",
        "outputId": "b861385b-60fa-49f8-f4e5-22be9a363b13"
      },
      "execution_count": 43,
      "outputs": [
        {
          "output_type": "stream",
          "name": "stdout",
          "text": [
            "Epoch 1/20\n",
            "\u001b[1m782/782\u001b[0m \u001b[32m━━━━━━━━━━━━━━━━━━━━\u001b[0m\u001b[37m\u001b[0m \u001b[1m7s\u001b[0m 6ms/step - accuracy: 0.6088 - loss: 0.6264 - val_accuracy: 0.8521 - val_loss: 0.3589\n",
            "Epoch 2/20\n",
            "\u001b[1m782/782\u001b[0m \u001b[32m━━━━━━━━━━━━━━━━━━━━\u001b[0m\u001b[37m\u001b[0m \u001b[1m5s\u001b[0m 6ms/step - accuracy: 0.8072 - loss: 0.4255 - val_accuracy: 0.7336 - val_loss: 0.5211\n",
            "Epoch 3/20\n",
            "\u001b[1m782/782\u001b[0m \u001b[32m━━━━━━━━━━━━━━━━━━━━\u001b[0m\u001b[37m\u001b[0m \u001b[1m4s\u001b[0m 5ms/step - accuracy: 0.8712 - loss: 0.3007 - val_accuracy: 0.8827 - val_loss: 0.2879\n",
            "Epoch 4/20\n",
            "\u001b[1m782/782\u001b[0m \u001b[32m━━━━━━━━━━━━━━━━━━━━\u001b[0m\u001b[37m\u001b[0m \u001b[1m6s\u001b[0m 6ms/step - accuracy: 0.8900 - loss: 0.2654 - val_accuracy: 0.8810 - val_loss: 0.2888\n",
            "Epoch 5/20\n",
            "\u001b[1m782/782\u001b[0m \u001b[32m━━━━━━━━━━━━━━━━━━━━\u001b[0m\u001b[37m\u001b[0m \u001b[1m4s\u001b[0m 5ms/step - accuracy: 0.9087 - loss: 0.2291 - val_accuracy: 0.8772 - val_loss: 0.2970\n"
          ]
        }
      ]
    },
    {
      "cell_type": "markdown",
      "source": [
        "Validate on test set"
      ],
      "metadata": {
        "id": "EMJGLmx4cLs2"
      }
    },
    {
      "cell_type": "code",
      "source": [
        "eval_result = hypermodel.evaluate(X_test,y_test)\n",
        "print(\"[test loss, test accuracy]:\", eval_result)"
      ],
      "metadata": {
        "colab": {
          "base_uri": "https://localhost:8080/"
        },
        "id": "E27C9QNFqFt8",
        "outputId": "883048a5-2084-416e-a812-0ed7c5a9df50"
      },
      "execution_count": 63,
      "outputs": [
        {
          "output_type": "stream",
          "name": "stdout",
          "text": [
            "\u001b[1m782/782\u001b[0m \u001b[32m━━━━━━━━━━━━━━━━━━━━\u001b[0m\u001b[37m\u001b[0m \u001b[1m2s\u001b[0m 2ms/step - accuracy: 0.8849 - loss: 0.2872\n",
            "[test loss, test accuracy]: [0.28737059235572815, 0.8845599889755249]\n"
          ]
        }
      ]
    },
    {
      "cell_type": "code",
      "source": [
        "hypermodel.save('best_model_hypermodel.h5')"
      ],
      "metadata": {
        "colab": {
          "base_uri": "https://localhost:8080/"
        },
        "id": "FNTKCrcE47Kv",
        "outputId": "700e61d8-3257-45a7-b7ec-d07c2392f54f"
      },
      "execution_count": 68,
      "outputs": [
        {
          "output_type": "stream",
          "name": "stderr",
          "text": [
            "WARNING:absl:You are saving your model as an HDF5 file via `model.save()` or `keras.saving.save_model(model)`. This file format is considered legacy. We recommend using instead the native Keras format, e.g. `model.save('my_model.keras')` or `keras.saving.save_model(model, 'my_model.keras')`. \n"
          ]
        }
      ]
    },
    {
      "cell_type": "markdown",
      "source": [
        "## Prediction"
      ],
      "metadata": {
        "id": "KfJnY3G0cQFw"
      }
    },
    {
      "cell_type": "code",
      "source": [
        "word_index = imdb.get_word_index()\n"
      ],
      "metadata": {
        "id": "-nBDamfV45u4"
      },
      "execution_count": 64,
      "outputs": []
    },
    {
      "cell_type": "code",
      "source": [
        "def preprocess_text(text):\n",
        "    words = text.lower().split()\n",
        "    encoded_review = [word_index.get(word, 2) + 3 for word in words]\n",
        "    padded_review = sequence.pad_sequences([encoded_review], maxlen=500)\n",
        "    return padded_review"
      ],
      "metadata": {
        "id": "PHHxh5P15Hzv"
      },
      "execution_count": 65,
      "outputs": []
    },
    {
      "cell_type": "code",
      "source": [
        "def predict_sentiment(review):\n",
        "    preprocessed_input=preprocess_text(review)\n",
        "\n",
        "    prediction=hypermodel.predict(preprocessed_input)\n",
        "\n",
        "    sentiment = 'Positive' if prediction[0][0] > 0.5 else 'Negative'\n",
        "\n",
        "    return sentiment, prediction[0][0]\n",
        "\n"
      ],
      "metadata": {
        "id": "s0AGG-6vpgNu"
      },
      "execution_count": 66,
      "outputs": []
    },
    {
      "cell_type": "code",
      "source": [
        "sample_review = \"total crap movie. worst cinematography\"\n",
        "\n",
        "sentiment,score=predict_sentiment(sample_review)\n",
        "\n",
        "print(f'Review: {sample_review}')\n",
        "print(f'Sentiment: {sentiment}')\n",
        "print(f'Prediction Score: {score}')"
      ],
      "metadata": {
        "colab": {
          "base_uri": "https://localhost:8080/"
        },
        "id": "UZvL8T3K4kQ-",
        "outputId": "a1a301db-2831-408c-be08-2978e326d1bf"
      },
      "execution_count": 73,
      "outputs": [
        {
          "output_type": "stream",
          "name": "stdout",
          "text": [
            "\u001b[1m1/1\u001b[0m \u001b[32m━━━━━━━━━━━━━━━━━━━━\u001b[0m\u001b[37m\u001b[0m \u001b[1m0s\u001b[0m 28ms/step\n",
            "Review: total crap movie. worst cinematography\n",
            "Sentiment: Negative\n",
            "Prediction Score: 0.18349485099315643\n"
          ]
        }
      ]
    },
    {
      "cell_type": "code",
      "source": [],
      "metadata": {
        "id": "B3LXoDS-q3tH"
      },
      "execution_count": null,
      "outputs": []
    }
  ]
}